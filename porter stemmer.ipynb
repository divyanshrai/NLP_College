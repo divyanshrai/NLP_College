{
 "cells": [
  {
   "cell_type": "code",
   "execution_count": 26,
   "metadata": {},
   "outputs": [],
   "source": [
    "from nltk.stem import *\n",
    "import nltk"
   ]
  },
  {
   "cell_type": "code",
   "execution_count": 2,
   "metadata": {},
   "outputs": [],
   "source": [
    "ps = PorterStemmer()"
   ]
  },
  {
   "cell_type": "code",
   "execution_count": 41,
   "metadata": {},
   "outputs": [],
   "source": [
    "a=[\"happiness\",\"wrying\",\"yesterday\",\"wry\",\"yesterdays\",\"happy\",\"relativity\",\"relative\",\"relate\",\"relates\"]"
   ]
  },
  {
   "cell_type": "code",
   "execution_count": 42,
   "metadata": {},
   "outputs": [
    {
     "name": "stdout",
     "output_type": "stream",
     "text": [
      "happi\n",
      "wri\n",
      "yesterday\n",
      "wri\n",
      "yesterday\n",
      "happi\n",
      "rel\n",
      "rel\n",
      "relat\n",
      "relat\n"
     ]
    }
   ],
   "source": [
    "for i in a:\n",
    "    print(ps.stem(i))"
   ]
  },
  {
   "cell_type": "code",
   "execution_count": null,
   "metadata": {},
   "outputs": [],
   "source": []
  },
  {
   "cell_type": "code",
   "execution_count": 55,
   "metadata": {},
   "outputs": [],
   "source": [
    "nonsense=[\"anjwnjne\", #removes e\n",
    "          \"anjwnjnes\", #removes es\n",
    "          \"anjwnjny\", #removes y replaces with i\n",
    "          \"anjwnjnay\",\n",
    "          \"anjwnjney\",\n",
    "          \"anjwnjniy\",\n",
    "          \"anjwnjnoy\",\n",
    "          \"anjwnjnuy\",\n",
    "          \"anjwnjnby\"]"
   ]
  },
  {
   "cell_type": "code",
   "execution_count": 52,
   "metadata": {},
   "outputs": [
    {
     "name": "stdout",
     "output_type": "stream",
     "text": [
      "anjwnjn\n",
      "anjwnjn\n",
      "anjwnjni\n",
      "anjwnjnay\n",
      "anjwnjney\n",
      "anjwnjniy\n",
      "anjwnjnoy\n",
      "anjwnjnuy\n",
      "anjwnjnbi\n"
     ]
    }
   ],
   "source": [
    "for i in nonsense:\n",
    "    print(ps.stem(i))"
   ]
  },
  {
   "cell_type": "code",
   "execution_count": 61,
   "metadata": {},
   "outputs": [],
   "source": [
    "nonsense2=[\"jwnjne\", #removes e\n",
    "          \"jwnjnes\", #removes es\n",
    "          \"jwnjny\", #removes y replaces with i\n",
    "          \"jwnjnay\",\n",
    "          \"jwnjney\",\n",
    "          \"jwnjniy\",\n",
    "          \"jwnjnoy\",\n",
    "          \"jwnjnuy\",\n",
    "          \"jwnjnby\"]"
   ]
  },
  {
   "cell_type": "code",
   "execution_count": 62,
   "metadata": {},
   "outputs": [
    {
     "name": "stdout",
     "output_type": "stream",
     "text": [
      "jwnjne\n",
      "jwnjne\n",
      "jwnjni\n",
      "jwnjnay\n",
      "jwnjney\n",
      "jwnjniy\n",
      "jwnjnoy\n",
      "jwnjnuy\n",
      "jwnjnbi\n"
     ]
    }
   ],
   "source": [
    "for i in nonsense2:\n",
    "    print(ps.stem(i))"
   ]
  },
  {
   "cell_type": "code",
   "execution_count": 63,
   "metadata": {},
   "outputs": [
    {
     "ename": "TypeError",
     "evalue": "must be str, not list",
     "output_type": "error",
     "traceback": [
      "\u001b[1;31m---------------------------------------------------------------------------\u001b[0m",
      "\u001b[1;31mTypeError\u001b[0m                                 Traceback (most recent call last)",
      "\u001b[1;32m<ipython-input-63-ecb78e21dca4>\u001b[0m in \u001b[0;36m<module>\u001b[1;34m()\u001b[0m\n\u001b[1;32m----> 1\u001b[1;33m \u001b[1;34m'a'\u001b[0m\u001b[1;33m+\u001b[0m\u001b[0mnonsense\u001b[0m\u001b[1;33m\u001b[0m\u001b[0m\n\u001b[0m",
      "\u001b[1;31mTypeError\u001b[0m: must be str, not list"
     ]
    }
   ],
   "source": []
  },
  {
   "cell_type": "code",
   "execution_count": 65,
   "metadata": {},
   "outputs": [
    {
     "name": "stdout",
     "output_type": "stream",
     "text": [
      "ajwnjn\n",
      "bjwnjne\n",
      "cjwnjne\n",
      "djwnjne\n",
      "ejwnjn\n",
      "fjwnjne\n",
      "gjwnjne\n",
      "hjwnjne\n",
      "ijwnjn\n",
      "jjwnjne\n",
      "kjwnjne\n",
      "ljwnjne\n",
      "mjwnjne\n",
      "njwnjne\n",
      "ojwnjn\n",
      "pjwnjne\n",
      "qjwnjne\n",
      "rjwnjne\n",
      "sjwnjne\n",
      "tjwnjne\n",
      "ujwnjn\n",
      "vjwnjne\n",
      "wjwnjne\n",
      "xjwnjne\n",
      "yjwnjne\n",
      "zjwnjne\n"
     ]
    }
   ],
   "source": [
    "for i in list(map(chr, range(97, 123))):\n",
    "    test=i+'jwnjne'\n",
    "    print(ps.stem(test))"
   ]
  },
  {
   "cell_type": "code",
   "execution_count": 68,
   "metadata": {},
   "outputs": [
    {
     "name": "stdout",
     "output_type": "stream",
     "text": [
      "jwnjay\n",
      "jwnjbi\n",
      "jwnjci\n",
      "jwnjdi\n",
      "jwnjey\n",
      "jwnjfi\n",
      "jwnjgi\n",
      "jwnjhi\n",
      "jwnjiy\n",
      "jwnjji\n",
      "jwnjki\n",
      "jwnjli\n",
      "jwnjmi\n",
      "jwnjni\n",
      "jwnjoy\n",
      "jwnjpi\n",
      "jwnjqi\n",
      "jwnjri\n",
      "jwnjsi\n",
      "jwnjti\n",
      "jwnjuy\n",
      "jwnjvi\n",
      "jwnjwi\n",
      "jwnjxi\n",
      "jwnjyy\n",
      "jwnjzi\n"
     ]
    }
   ],
   "source": [
    "for i in list(map(chr, range(97, 123))):\n",
    "    test='jwnj'+i+'y'\n",
    "    print(ps.stem(test))"
   ]
  },
  {
   "cell_type": "code",
   "execution_count": null,
   "metadata": {},
   "outputs": [],
   "source": []
  },
  {
   "cell_type": "code",
   "execution_count": null,
   "metadata": {},
   "outputs": [],
   "source": []
  },
  {
   "cell_type": "code",
   "execution_count": null,
   "metadata": {},
   "outputs": [],
   "source": []
  },
  {
   "cell_type": "code",
   "execution_count": 8,
   "metadata": {},
   "outputs": [
    {
     "data": {
      "text/plain": [
       "'is'"
      ]
     },
     "execution_count": 8,
     "metadata": {},
     "output_type": "execute_result"
    }
   ],
   "source": [
    "ps.stem(\"is\")"
   ]
  },
  {
   "cell_type": "code",
   "execution_count": 27,
   "metadata": {},
   "outputs": [],
   "source": [
    "from nltk.corpus import wordnet as wn"
   ]
  },
  {
   "cell_type": "code",
   "execution_count": 28,
   "metadata": {},
   "outputs": [
    {
     "ename": "SyntaxError",
     "evalue": "invalid syntax (<ipython-input-28-97a6d7a15f6e>, line 2)",
     "output_type": "error",
     "traceback": [
      "\u001b[1;36m  File \u001b[1;32m\"<ipython-input-28-97a6d7a15f6e>\"\u001b[1;36m, line \u001b[1;32m2\u001b[0m\n\u001b[1;33m    print wn._morphy(word, wn.NOUN,wn.VERB)\u001b[0m\n\u001b[1;37m           ^\u001b[0m\n\u001b[1;31mSyntaxError\u001b[0m\u001b[1;31m:\u001b[0m invalid syntax\n"
     ]
    }
   ],
   "source": [
    "for word in words:\n",
    "        print wn._morphy(word, wn.NOUN,wn.VERB)"
   ]
  },
  {
   "cell_type": "code",
   "execution_count": null,
   "metadata": {},
   "outputs": [],
   "source": []
  }
 ],
 "metadata": {
  "kernelspec": {
   "display_name": "Python 3",
   "language": "python",
   "name": "python3"
  },
  "language_info": {
   "codemirror_mode": {
    "name": "ipython",
    "version": 3
   },
   "file_extension": ".py",
   "mimetype": "text/x-python",
   "name": "python",
   "nbconvert_exporter": "python",
   "pygments_lexer": "ipython3",
   "version": "3.6.5"
  }
 },
 "nbformat": 4,
 "nbformat_minor": 2
}
